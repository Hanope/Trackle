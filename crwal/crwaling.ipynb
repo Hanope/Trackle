{
 "cells": [
  {
   "cell_type": "code",
   "execution_count": 79,
   "metadata": {},
   "outputs": [],
   "source": [
    "import requests\n",
    "import json\n",
    "from newspaper import Article\n",
    "from bs4 import BeautifulSoup"
   ]
  },
  {
   "cell_type": "code",
   "execution_count": 108,
   "metadata": {},
   "outputs": [
    {
     "name": "stdout",
     "output_type": "stream",
     "text": [
      "[]\n",
      "[]\n",
      "['권애리 기자']\n",
      "[]\n",
      "['부산 여중생 폭행 가해자 추가 구속', '도망할 염려 있어']\n",
      "[]\n",
      "[]\n",
      "['괴짜 노벨상', '걸을 때 커피 쏟는 이유 규명한 한국인 수상']\n",
      "[]\n",
      "[]\n"
     ]
    }
   ],
   "source": [
    "headers = {\n",
    "    'User-Agent': 'Mozilla/5.0 (Windows; U; MSIE 9.0; WIndows NT 9.0; ko-KR))',\n",
    "}\n",
    "\n",
    "req = requests.get(\"https://search.naver.com/search.naver?where=news&sm=tab_jum&query=\", headers=headers)\n",
    "\n",
    "html = req.text\n",
    "soup = BeautifulSoup(html, \"lxml\")\n",
    "\n",
    "lst_realtime_src = soup.find('ol', {\"class\":\"lst_realtime_srch _tab_area\"})\n",
    "lis = lst_realtime_src.findAll('li')\n",
    "\n",
    "articles = {\"article\":[]}\n",
    "index = 1\n",
    "\n",
    "for li in lis:\n",
    "#   News Url\n",
    "    keyword = li.find(\"span\", {\"class\":\"tit\"})\n",
    "    news_page_url = \"https://search.naver.com/search.naver?where=news&sm=tab_jum&query=\" + keyword.text\n",
    "    req = requests.get(news_page_url, headers=headers)\n",
    "    html = req.text\n",
    "    soup = BeautifulSoup(html, \"lxml\")\n",
    "    \n",
    "    news_list = soup.find(\"ul\", {\"class\":\"type01\"}).findAll('li')[0]\n",
    "    source = news_list.find(\"span\", {\"class\":\"_sp_each_source\"})\n",
    "    link = news_list.find(\"a\")[\"href\"]\n",
    "    \n",
    "    req = requests.get(link, headers=headers)\n",
    "    html = req.text\n",
    "\n",
    "    a = Article(link, language=\"ko\")\n",
    "    a.download()\n",
    "    a.parse()\n",
    "    \n",
    "    article = {\n",
    "        \"number\" : index,\n",
    "        \"keyword\" : keyword,\n",
    "        \"title\" : a.title,\n",
    "        \"content\" : a.text,\n",
    "        \"source\" : source.text,\n",
    "        \"image\" : a.top_image\n",
    "    }\n",
    "    \n",
    "    print(a.authors)\n",
    "    \n",
    "#     articles[\"article\"].append(article)\n",
    "    \n",
    "# print(articles)\n",
    "# print('hello')\n",
    "    "
   ]
  },
  {
   "cell_type": "code",
   "execution_count": null,
   "metadata": {
    "collapsed": true
   },
   "outputs": [],
   "source": []
  },
  {
   "cell_type": "code",
   "execution_count": null,
   "metadata": {
    "collapsed": true
   },
   "outputs": [],
   "source": []
  }
 ],
 "metadata": {
  "kernelspec": {
   "display_name": "Python 3",
   "language": "python",
   "name": "python3"
  },
  "language_info": {
   "codemirror_mode": {
    "name": "ipython",
    "version": 3
   },
   "file_extension": ".py",
   "mimetype": "text/x-python",
   "name": "python",
   "nbconvert_exporter": "python",
   "pygments_lexer": "ipython3",
   "version": "3.6.0"
  }
 },
 "nbformat": 4,
 "nbformat_minor": 2
}
