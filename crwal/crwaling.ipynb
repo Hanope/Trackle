{
 "cells": [
  {
   "cell_type": "code",
   "execution_count": 11,
   "metadata": {},
   "outputs": [
    {
     "ename": "ModuleNotFoundError",
     "evalue": "No module named 'mysql'",
     "output_type": "error",
     "traceback": [
      "\u001b[0;31m---------------------------------------------------------------------------\u001b[0m",
      "\u001b[0;31mModuleNotFoundError\u001b[0m                       Traceback (most recent call last)",
      "\u001b[0;32m<ipython-input-11-4d82ce7e5b3a>\u001b[0m in \u001b[0;36m<module>\u001b[0;34m()\u001b[0m\n\u001b[1;32m      1\u001b[0m \u001b[0;32mimport\u001b[0m \u001b[0mrequests\u001b[0m\u001b[0;34m\u001b[0m\u001b[0m\n\u001b[1;32m      2\u001b[0m \u001b[0;32mimport\u001b[0m \u001b[0mjson\u001b[0m\u001b[0;34m\u001b[0m\u001b[0m\n\u001b[0;32m----> 3\u001b[0;31m \u001b[0;32mimport\u001b[0m \u001b[0mmysql\u001b[0m\u001b[0;34m.\u001b[0m\u001b[0mconnector\u001b[0m \u001b[0;32mas\u001b[0m \u001b[0mmariadb\u001b[0m\u001b[0;34m\u001b[0m\u001b[0m\n\u001b[0m\u001b[1;32m      4\u001b[0m \u001b[0;32mfrom\u001b[0m \u001b[0mnewspaper\u001b[0m \u001b[0;32mimport\u001b[0m \u001b[0mArticle\u001b[0m\u001b[0;34m\u001b[0m\u001b[0m\n\u001b[1;32m      5\u001b[0m \u001b[0;32mfrom\u001b[0m \u001b[0mbs4\u001b[0m \u001b[0;32mimport\u001b[0m \u001b[0mBeautifulSoup\u001b[0m\u001b[0;34m\u001b[0m\u001b[0m\n",
      "\u001b[0;31mModuleNotFoundError\u001b[0m: No module named 'mysql'"
     ]
    }
   ],
   "source": [
    "import requests\n",
    "import json\n",
    "import pymysql\n",
    "from newspaper import Article\n",
    "from bs4 import BeautifulSoup"
   ]
  },
  {
   "cell_type": "code",
   "execution_count": 37,
   "metadata": {},
   "outputs": [
    {
     "name": "stdout",
     "output_type": "stream",
     "text": [
      "[]\n",
      "[]\n",
      "[]\n",
      "[]\n",
      "['부산 여중생 폭행 가해자 추가 구속', '도망할 염려 있어']\n",
      "[]\n",
      "[]\n",
      "['괴짜 노벨상', '걸을 때 커피 쏟는 이유 규명한 한국인 수상']\n",
      "[]\n",
      "[]\n"
     ]
    }
   ],
   "source": [
    "# MariaDB Connect\n",
    "db = pymysql.connect(host='localhost', port=3306, user='root', passwd='root', db='trackle', charset='utf8',autocommit=True)\n",
    "cursor = db.cursor()\n",
    "\n",
    "# News 크롤링\n",
    "headers = {\n",
    "    'User-Agent': 'Mozilla/5.0 (Windows; U; MSIE 9.0; WIndows NT 9.0; ko-KR))',\n",
    "}\n",
    "\n",
    "req = requests.get(\"https://search.naver.com/search.naver?where=news&sm=tab_jum&query=\", headers=headers)\n",
    "\n",
    "html = req.text\n",
    "soup = BeautifulSoup(html, \"lxml\")\n",
    "\n",
    "lst_realtime_src = soup.find('ol', {\"class\":\"lst_realtime_srch _tab_area\"})\n",
    "lis = lst_realtime_src.findAll('li')\n",
    "\n",
    "articles = {\"article\":[]}\n",
    "\n",
    "for li in lis:\n",
    "#   News Url\n",
    "    key = li.find(\"span\", {\"class\":\"tit\"})\n",
    "    news_page_url = \"https://search.naver.com/search.naver?where=news&sm=tab_jum&query=\" + key.text\n",
    "    req = requests.get(news_page_url, headers=headers)\n",
    "    html = req.text\n",
    "    soup = BeautifulSoup(html, \"lxml\")\n",
    "    \n",
    "    news_list = soup.find(\"ul\", {\"class\":\"type01\"}).findAll('li')[0]\n",
    "    source = news_list.find(\"span\", {\"class\":\"_sp_each_source\"})\n",
    "    link = news_list.find(\"a\")[\"href\"]\n",
    "    \n",
    "    req = requests.get(link, headers=headers)\n",
    "    html = req.text\n",
    "\n",
    "    a = Article(link, language=\"ko\")\n",
    "    a.download()\n",
    "    a.parse()\n",
    "\n",
    "    title = a.title\n",
    "    content = a.text\n",
    "    image = a.top_image\n",
    "    company = source.text\n",
    "    keyword = key.text\n",
    "    \n",
    "    cursor.execute(\"INSERT INTO article (title, content, image, company, keyword) VALUES(%s, %s, %s, %s, %s)\", (title, content, image, company, keyword))\n",
    "    db.commit()\n",
    "db.close()"
   ]
  },
  {
   "cell_type": "code",
   "execution_count": null,
   "metadata": {
    "collapsed": true
   },
   "outputs": [],
   "source": []
  },
  {
   "cell_type": "code",
   "execution_count": null,
   "metadata": {
    "collapsed": true
   },
   "outputs": [],
   "source": []
  }
 ],
 "metadata": {
  "kernelspec": {
   "display_name": "Python 3",
   "language": "python",
   "name": "python3"
  },
  "language_info": {
   "codemirror_mode": {
    "name": "ipython",
    "version": 3
   },
   "file_extension": ".py",
   "mimetype": "text/x-python",
   "name": "python",
   "nbconvert_exporter": "python",
   "pygments_lexer": "ipython3",
   "version": "3.6.0"
  }
 },
 "nbformat": 4,
 "nbformat_minor": 2
}
